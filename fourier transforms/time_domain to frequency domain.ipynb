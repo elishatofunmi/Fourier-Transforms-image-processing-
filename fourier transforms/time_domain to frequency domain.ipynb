{
 "cells": [
  {
   "cell_type": "markdown",
   "metadata": {},
   "source": [
    "# **Image Processing**"
   ]
  },
  {
   "cell_type": "markdown",
   "metadata": {},
   "source": [
    "1. *converting an Input image from time domain into frequency domain using fourier transforms*"
   ]
  },
  {
   "cell_type": "markdown",
   "metadata": {},
   "source": [
    "    Fourier transforms can simply be termed as a frequncy domain transform of time domain based signal processing. Fourier transform is a digtal signal processing technique utilized in solving problems in areas like image processing, video processing etc."
   ]
  },
  {
   "cell_type": "markdown",
   "metadata": {},
   "source": [
    "2. *Types of Fourier transforms includes:*\n"
   ]
  },
  {
   "cell_type": "markdown",
   "metadata": {},
   "source": [
    "1. Discrete time signal.\n",
    "    * Aperiodic Discrete time signal.\n",
    "    * Periodic Discrete time signals.\n",
    "2. continuous time signal.\n",
    "    * Aperiodic continuous time signal.\n",
    "    * Periodic continuous time signal.\n"
   ]
  },
  {
   "cell_type": "markdown",
   "metadata": {},
   "source": [
    "images can be represented as a discrete time signals (they are not continuous), therefore the signal \n",
    "processing techniques used here is the Discrete Fourier Transforms (DFT). Videos are termed to be \n",
    "continuous frames of images, transforms applicable in this case is the continuous fourier transform."
   ]
  },
  {
   "cell_type": "markdown",
   "metadata": {},
   "source": [
    "Images are represented as a 3 channel(R, G and B) 2-dimensional array."
   ]
  },
  {
   "cell_type": "markdown",
   "metadata": {},
   "source": [
    "Discrete Fourier transforms for an M by N 2 dimensional channel array can be transformed mathematically as:"
   ]
  },
  {
   "cell_type": "markdown",
   "metadata": {},
   "source": [
    "$$F(k,l) = \\sum_{i=0}^{m-1} \\sum_{j=0}^{n-1} f(i,j) e^-i2$$"
   ]
  },
  {
   "cell_type": "code",
   "execution_count": null,
   "metadata": {},
   "outputs": [],
   "source": []
  },
  {
   "cell_type": "code",
   "execution_count": null,
   "metadata": {},
   "outputs": [],
   "source": []
  }
 ],
 "metadata": {
  "kernelspec": {
   "display_name": "Python 3",
   "language": "python",
   "name": "python3"
  },
  "language_info": {
   "codemirror_mode": {
    "name": "ipython",
    "version": 3
   },
   "file_extension": ".py",
   "mimetype": "text/x-python",
   "name": "python",
   "nbconvert_exporter": "python",
   "pygments_lexer": "ipython3",
   "version": "3.7.4"
  }
 },
 "nbformat": 4,
 "nbformat_minor": 4
}
